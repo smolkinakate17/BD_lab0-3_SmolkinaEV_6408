{
 "cells": [
  {
   "cell_type": "markdown",
   "id": "b7bc7e3a",
   "metadata": {},
   "source": [
    "# СмолькинаЕВ 6408\n",
    "# Лабораторная работа №2 по курсу BigData"
   ]
  },
  {
   "cell_type": "code",
   "execution_count": 1,
   "id": "f8888b7b",
   "metadata": {},
   "outputs": [],
   "source": [
    "from datetime import datetime\n",
    "from pyspark.sql.types import StructType, StructField, StringType, DateType\n",
    "from pyspark.sql.functions import asc, desc, rank, col\n",
    "from pyspark.sql.window import Window"
   ]
  },
  {
   "cell_type": "code",
   "execution_count": 2,
   "id": "1603c4de",
   "metadata": {},
   "outputs": [
    {
     "name": "stderr",
     "output_type": "stream",
     "text": [
      "/usr/local/lib/python3.6/dist-packages/pyspark/context.py:238: FutureWarning: Python 3.6 support is deprecated in Spark 3.2.\n",
      "  FutureWarning\n"
     ]
    },
    {
     "data": {
      "text/html": [
       "\n",
       "            <div>\n",
       "                <p><b>SparkSession - in-memory</b></p>\n",
       "                \n",
       "        <div>\n",
       "            <p><b>SparkContext</b></p>\n",
       "\n",
       "            <p><a href=\"http://maprdemo.mapr.io:4040\">Spark UI</a></p>\n",
       "\n",
       "            <dl>\n",
       "              <dt>Version</dt>\n",
       "                <dd><code>v3.2.4</code></dd>\n",
       "              <dt>Master</dt>\n",
       "                <dd><code>local[*]</code></dd>\n",
       "              <dt>AppName</dt>\n",
       "                <dd><code>Lab2</code></dd>\n",
       "            </dl>\n",
       "        </div>\n",
       "        \n",
       "            </div>\n",
       "        "
      ],
      "text/plain": [
       "<pyspark.sql.session.SparkSession at 0x7f3b08221908>"
      ]
     },
     "execution_count": 2,
     "metadata": {},
     "output_type": "execute_result"
    }
   ],
   "source": [
    "from pyspark.sql import SparkSession\n",
    "import os\n",
    "\n",
    "os.environ['PYSPARK_SUBMIT_ARGS'] = '--packages com.databricks:spark-xml_2.12:0.13.0 pyspark-shell'\n",
    "\n",
    "spark_session = SparkSession.builder.appName(\"Lab2\").getOrCreate()\n",
    "sc = spark_session._sc\n",
    "spark_session"
   ]
  },
  {
   "cell_type": "code",
   "execution_count": 5,
   "id": "6e365005",
   "metadata": {},
   "outputs": [
    {
     "data": {
      "text/plain": [
       "Row(Language='name', Url_language='wikipedia_url')"
      ]
     },
     "execution_count": 5,
     "metadata": {},
     "output_type": "execute_result"
    }
   ],
   "source": [
    "progLangSchema = StructType([\n",
    "    StructField(\"Language\", StringType(), False),\n",
    "    StructField(\"Url_language\", StringType(), False),\n",
    "])\n",
    "dfProgLangs = spark_session.read.csv(\"programming-languages.csv\", schema=progLangSchema)\n",
    "dfProgLangs.head()"
   ]
  },
  {
   "cell_type": "code",
   "execution_count": 11,
   "id": "a4a8ac2d",
   "metadata": {},
   "outputs": [
    {
     "data": {
      "text/plain": [
       "['A# .NET',\n",
       " 'A# (Axiom)',\n",
       " 'A-0 System',\n",
       " 'A+',\n",
       " 'A++',\n",
       " 'ABAP',\n",
       " 'ABC',\n",
       " 'ABC ALGOL',\n",
       " 'ABSET',\n",
       " 'ABSYS']"
      ]
     },
     "execution_count": 11,
     "metadata": {},
     "output_type": "execute_result"
    }
   ],
   "source": [
    "firstRow = dfProgLangs.rdd.first()\n",
    "progLangsList = dfProgLangs.rdd\\\n",
    "    .filter(lambda x: x != firstRow)\\\n",
    "    .map(lambda x: x[0])\\\n",
    "    .collect()\n",
    "progLangsList[:10]"
   ]
  },
  {
   "cell_type": "code",
   "execution_count": 12,
   "id": "c3e958de",
   "metadata": {},
   "outputs": [
    {
     "name": "stdout",
     "output_type": "stream",
     "text": [
      "DataFrame[_AcceptedAnswerId: bigint, _AnswerCount: bigint, _Body: string, _ClosedDate: timestamp, _CommentCount: bigint, _CommunityOwnedDate: timestamp, _CreationDate: timestamp, _FavoriteCount: bigint, _Id: bigint, _LastActivityDate: timestamp, _LastEditDate: timestamp, _LastEditorDisplayName: string, _LastEditorUserId: bigint, _OwnerDisplayName: string, _OwnerUserId: bigint, _ParentId: bigint, _PostTypeId: bigint, _Score: bigint, _Tags: string, _Title: string, _ViewCount: bigint]\n",
      "\n",
      "\n",
      "\n",
      "Row(_AcceptedAnswerId=7, _AnswerCount=13, _Body=\"<p>I want to use a track-bar to change a form's opacity.</p>\\n\\n<p>This is my code:</p>\\n\\n<pre><code>decimal trans = trackBar1.Value / 5000;\\nthis.Opacity = trans;\\n</code></pre>\\n\\n<p>When I build the application, it gives the following error:</p>\\n\\n<blockquote>\\n  <p>Cannot implicitly convert type <code>'decimal'</code> to <code>'double'</code></p>\\n</blockquote>\\n\\n<p>I tried using <code>trans</code> and <code>double</code> but then the control doesn't work. This code worked fine in a past VB.NET project.</p>\\n\", _ClosedDate=None, _CommentCount=2, _CommunityOwnedDate=datetime.datetime(2012, 10, 31, 16, 42, 47, 213000), _CreationDate=datetime.datetime(2008, 7, 31, 21, 42, 52, 667000), _FavoriteCount=48, _Id=4, _LastActivityDate=datetime.datetime(2019, 7, 19, 1, 39, 54, 173000), _LastEditDate=datetime.datetime(2019, 7, 19, 1, 39, 54, 173000), _LastEditorDisplayName='Rich B', _LastEditorUserId=3641067, _OwnerDisplayName=None, _OwnerUserId=8, _ParentId=None, _PostTypeId=1, _Score=630, _Tags='<c#><floating-point><type-conversion><double><decimal>', _Title='Convert Decimal to Double?', _ViewCount=42817)\n"
     ]
    }
   ],
   "source": [
    "dfPostsSample = spark_session.read.format(\"xml\").options(rowTag=\"row\").load('posts_sample.xml')\n",
    "print(dfPostsSample)\n",
    "print(\"\\n\\n\")\n",
    "print(dfPostsSample.first())"
   ]
  },
  {
   "cell_type": "code",
   "execution_count": 39,
   "id": "206ab7a1",
   "metadata": {},
   "outputs": [],
   "source": [
    "def DefineLanguage(row):\n",
    "    languageTag = None\n",
    "    for language in progLangsList:\n",
    "        if '<' + language.upper() + '>' in row._Tags.upper():\n",
    "            languageTag = language\n",
    "            break\n",
    "    if languageTag is not None: \n",
    "        return (row._Id, languageTag, row._CreationDate.year, row._ViewCount)\n",
    "\n",
    "def IsDateInRange(row):\n",
    "    leftBorder = datetime(year=2010, month=1, day=1)\n",
    "    rightBorder = datetime(year=2020, month=12, day=31)\n",
    "    return row._CreationDate >= leftBorder and row._CreationDate <= rightBorder"
   ]
  },
  {
   "cell_type": "code",
   "execution_count": 89,
   "id": "c7894672",
   "metadata": {},
   "outputs": [
    {
     "name": "stdout",
     "output_type": "stream",
     "text": [
      "+----+------------+------+\n",
      "|Year|    Language| Count|\n",
      "+----+------------+------+\n",
      "|2010|      Python| 59392|\n",
      "|2010|  JavaScript|316131|\n",
      "|2010|           R| 11087|\n",
      "|2011| Objective-C|218762|\n",
      "|2011|  JavaScript|806948|\n",
      "|2013|  JavaScript|607937|\n",
      "|2013|      Python|159360|\n",
      "|2013|ActionScript|    30|\n",
      "|2014|  JavaScript|505138|\n",
      "|2014|      Python|238294|\n",
      "|2014|         AWK| 12890|\n",
      "|2016|         PHP| 98009|\n",
      "|2016|  PowerShell| 36175|\n",
      "|2016|        Curl|  9386|\n",
      "|2016|       Scala| 11725|\n",
      "|2019|  JavaScript| 13006|\n",
      "|2019|          Go|   533|\n",
      "|2019|        Curl|   150|\n",
      "|2019|       Scala|   351|\n",
      "|2015|      Python|278450|\n",
      "+----+------------+------+\n",
      "only showing top 20 rows\n",
      "\n"
     ]
    }
   ],
   "source": [
    "topLanguagesPerYear = dfPostsSample.rdd.filter(lambda row: row._Tags is not None and IsDateInRange(row))\\\n",
    "    .map(DefineLanguage)\\\n",
    "    .filter(lambda row: row is not None)\\\n",
    "    .keyBy(lambda row: (row[2], row[1]))\\\n",
    "    .map(lambda row: ((row[0][0], row[0][1]), row[1][3]))\\\n",
    "    .reduceByKey(lambda a, b: a + b)\\\n",
    "    .map(lambda row: (row[0][0], row[0][1], row[1]))\\\n",
    "    .toDF(('Year', 'Language', 'Count'))\n",
    "\n",
    "topLanguagesPerYear.show()"
   ]
  },
  {
   "cell_type": "code",
   "execution_count": 110,
   "id": "62dfd17d",
   "metadata": {},
   "outputs": [
    {
     "name": "stdout",
     "output_type": "stream",
     "text": [
      "+----+-----------+-------+\n",
      "|Year|   Language|  Count|\n",
      "+----+-----------+-------+\n",
      "|2010|        PHP|1184584|\n",
      "|2010|       Java| 563211|\n",
      "|2010| JavaScript| 316131|\n",
      "|2010|Objective-C|  97009|\n",
      "|2010|       Ruby|  76001|\n",
      "|2010|          C|  66587|\n",
      "|2010|     Python|  59392|\n",
      "|2010|     MATLAB|  51865|\n",
      "|2010|AppleScript|  32305|\n",
      "|2010|     Delphi|  11817|\n",
      "|2011| JavaScript| 806948|\n",
      "|2011|       Java| 388524|\n",
      "|2011|        PHP| 243646|\n",
      "|2011|          C| 238277|\n",
      "|2011|Objective-C| 218762|\n",
      "|2011|     Python| 195016|\n",
      "|2011|       Bash|  60805|\n",
      "|2011|       Ruby|  33037|\n",
      "|2011|       Perl|  24465|\n",
      "|2011|     MATLAB|  18816|\n",
      "+----+-----------+-------+\n",
      "only showing top 20 rows\n",
      "\n"
     ]
    }
   ],
   "source": [
    "window_spec = Window.partitionBy(\"Year\").orderBy(topLanguagesPerYear[\"Count\"].desc())\n",
    "topLanguagesRanks = topLanguagesPerYear.withColumn(\"rank\", rank().over(window_spec))\n",
    "result = topLanguagesRanks.filter(topLanguagesRanks[\"rank\"] <= 10).drop(col(\"rank\"))\n",
    "result.show()"
   ]
  },
  {
   "cell_type": "code",
   "execution_count": 111,
   "id": "383c3930",
   "metadata": {
    "scrolled": true
   },
   "outputs": [],
   "source": [
    "result.write.mode(\"overwrite\").parquet(\"result\")"
   ]
  },
  {
   "cell_type": "code",
   "execution_count": null,
   "id": "c31daf32",
   "metadata": {},
   "outputs": [],
   "source": []
  }
 ],
 "metadata": {
  "kernelspec": {
   "display_name": "Python 3",
   "language": "python",
   "name": "python3"
  },
  "language_info": {
   "codemirror_mode": {
    "name": "ipython",
    "version": 3
   },
   "file_extension": ".py",
   "mimetype": "text/x-python",
   "name": "python",
   "nbconvert_exporter": "python",
   "pygments_lexer": "ipython3",
   "version": "3.6.9"
  }
 },
 "nbformat": 4,
 "nbformat_minor": 5
}
